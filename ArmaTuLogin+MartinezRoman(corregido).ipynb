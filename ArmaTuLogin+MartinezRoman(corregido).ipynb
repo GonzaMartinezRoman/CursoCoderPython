{
  "nbformat": 4,
  "nbformat_minor": 0,
  "metadata": {
    "colab": {
      "provenance": [],
      "authorship_tag": "ABX9TyNytMaVEqo3gV2QsAoG1f8c",
      "include_colab_link": true
    },
    "kernelspec": {
      "name": "python3",
      "display_name": "Python 3"
    },
    "language_info": {
      "name": "python"
    }
  },
  "cells": [
    {
      "cell_type": "markdown",
      "metadata": {
        "id": "view-in-github",
        "colab_type": "text"
      },
      "source": [
        "<a href=\"https://colab.research.google.com/github/GonzaMartinezRoman/CursoCoderPython/blob/main/ArmaTuLogin%2BMartinezRoman(corregido).ipynb\" target=\"_parent\"><img src=\"https://colab.research.google.com/assets/colab-badge.svg\" alt=\"Open In Colab\"/></a>"
      ]
    },
    {
      "cell_type": "markdown",
      "source": [
        "# **Armá tu Login**\n",
        "\n",
        "###**Consigna**\n",
        "\n",
        "Para tu primera entrega, te proponemos que crees un programa que permita emular el registro y almacenamiento de usuarios en una base de datos. Hazlo utilizando el concepto de funciones, diccionarios, bucles y condicionales.\n",
        "\n",
        "###**Objetivos**\n",
        "\n",
        "*   Practicar el concepto de funciones.\n",
        "\n",
        "*    Desarrollar la parte lógica para el registro de usuarios.\n",
        "***"
      ],
      "metadata": {
        "id": "M2n4FFxGRO0G"
      }
    },
    {
      "cell_type": "code",
      "source": [
        "def salir(texto):\n",
        "  \"\"\"\n",
        "  Utilizo esta función para no repetir varias veces las lineas de código donde\n",
        "  verifico si el Usuario desea 'salir'\n",
        "  \"\"\"\n",
        "  return texto.strip().lower() == 'salir' #Me aseguro que salga aunque el usuario use mayúsculas o deje espacios."
      ],
      "metadata": {
        "id": "o4txmGtdOB6I"
      },
      "execution_count": 9,
      "outputs": []
    },
    {
      "cell_type": "code",
      "source": [
        "texto = 'salir' # Testeo el resultado\n",
        "salir(texto)"
      ],
      "metadata": {
        "colab": {
          "base_uri": "https://localhost:8080/"
        },
        "id": "6LUtDrIHOQg1",
        "outputId": "b2fbf784-f5d7-42e8-e63b-0cfa52ac4d81"
      },
      "execution_count": 7,
      "outputs": [
        {
          "output_type": "execute_result",
          "data": {
            "text/plain": [
              "True"
            ]
          },
          "metadata": {},
          "execution_count": 7
        }
      ]
    },
    {
      "cell_type": "code",
      "source": [
        "texto = 'casa' # Testeo el resultado\n",
        "salir(texto)"
      ],
      "metadata": {
        "colab": {
          "base_uri": "https://localhost:8080/"
        },
        "id": "NxtVTKW-OnpL",
        "outputId": "a9695c20-a327-4ba1-a334-80c7159b48e6"
      },
      "execution_count": 8,
      "outputs": [
        {
          "output_type": "execute_result",
          "data": {
            "text/plain": [
              "False"
            ]
          },
          "metadata": {},
          "execution_count": 8
        }
      ]
    },
    {
      "cell_type": "code",
      "source": [
        "def registro_de_usuarios(usuarios):\n",
        "  \"\"\"\n",
        "  Esta función solicita a un usuario nuevo un nombre de usuario y una contraseña\n",
        "  para registrarse en la base de datos de usuarios.\n",
        "  \"\"\"\n",
        "  while True:\n",
        "    nombre_de_usuario = input(\"Ingresa tu nombre de usuario o \\nescribe 'salir' si deseas terminar): \")\n",
        "\n",
        "    if salir(nombre_de_usuario):\n",
        "      print(\"Hasta pronto!\")\n",
        "      return #Uso return en lugar de break para que se interrumpa la ejecución.\n",
        "\n",
        "    if nombre_de_usuario in usuarios:\n",
        "        print(\"Este Usuario ya se encuentra registrado, elije otro o \\nescribe 'salir' si deseas terminar.\")\n",
        "        continue\n",
        "\n",
        "    contraseña = input(\"Ingresa tu contraseña: \")\n",
        "\n",
        "    if salir(contraseña):\n",
        "      print(\"Cuidado! El registro ha sido interrumpido\")\n",
        "      return #Uso return en lugar de break para que se interrumpa la ejecución.\n",
        "\n",
        "    usuarios[nombre_de_usuario] = contraseña\n",
        "    print(f\"Usuario {nombre_de_usuario} correctamente registrado!\\n\")\n",
        "\n",
        "usuarios = {}\n",
        "registro_de_usuarios(usuarios)\n"
      ],
      "metadata": {
        "colab": {
          "base_uri": "https://localhost:8080/"
        },
        "id": "lMsfFEL_Rbxd",
        "outputId": "39283bf1-b828-42cc-865d-8c40362e3eca"
      },
      "execution_count": 14,
      "outputs": [
        {
          "output_type": "stream",
          "name": "stdout",
          "text": [
            "Ingresa tu nombre de usuario o \n",
            "escribe 'salir' si deseas terminar): salir\n",
            "Hasta pronto!\n"
          ]
        }
      ]
    },
    {
      "cell_type": "code",
      "source": [
        "registro_de_usuarios(usuarios)"
      ],
      "metadata": {
        "colab": {
          "base_uri": "https://localhost:8080/"
        },
        "id": "c3xEMSEPOnzn",
        "outputId": "71314770-049d-4b70-f758-a5377a2ad16e"
      },
      "execution_count": 15,
      "outputs": [
        {
          "output_type": "stream",
          "name": "stdout",
          "text": [
            "Ingresa tu nombre de usuario o \n",
            "escribe 'salir' si deseas terminar): Gonzalo Martinez\n",
            "Ingresa tu contraseña: Gonza48\n",
            "Usuario Gonzalo Martinez correctamente registrado!\n",
            "\n",
            "Ingresa tu nombre de usuario o \n",
            "escribe 'salir' si deseas terminar): Carla Garcia\n",
            "Ingresa tu contraseña: carlita98\n",
            "Usuario Carla Garcia correctamente registrado!\n",
            "\n",
            "Ingresa tu nombre de usuario o \n",
            "escribe 'salir' si deseas terminar): Gabriela Mistral\n",
            "Ingresa tu contraseña: 2641\n",
            "Usuario Gabriela Mistral correctamente registrado!\n",
            "\n",
            "Ingresa tu nombre de usuario o \n",
            "escribe 'salir' si deseas terminar): salir\n",
            "Hasta pronto!\n"
          ]
        }
      ]
    },
    {
      "cell_type": "code",
      "source": [
        "def lista_de_usuarios(usuarios):\n",
        "\n",
        "  \"\"\"\n",
        "  Esta función devuelve la lista de usuarios y contraseñas registrados siempre y cuando\n",
        "  se ingrese con la contraseña de administrador\n",
        "  \"\"\"\n",
        "  while True:\n",
        "    contraseña_administrador = input(\"Ingresa la contraseña de administrador para ver el listado de usuarios o \\nescribe 'salir' para terminar: \")\n",
        "\n",
        "    if salir(contraseña_administrador):\n",
        "      print(\"Hasta pronto!\")\n",
        "      return #Uso return en lugar de break para que se interrumpa la ejecución.\n",
        "\n",
        "    if contraseña_administrador == 'Admin1234':\n",
        "      print(\"\\nUsuarios registrados: \\n\")\n",
        "      for usuario, contraseña in usuarios.items():\n",
        "        print(f\"- Nombre de usuario: {usuario}; Contraseña: {contraseña}\")\n",
        "      print(\"\\nHasta pronto!\")\n",
        "      return #Uso return en lugar de break para que se interrumpa la ejecución.\n",
        "\n",
        "    else:\n",
        "      print(\"Contraseña incorrecta\")\n",
        "\n",
        "lista_de_usuarios(usuarios)"
      ],
      "metadata": {
        "colab": {
          "base_uri": "https://localhost:8080/"
        },
        "id": "dIjItBtcQ45d",
        "outputId": "e7cba543-49d0-42d9-ea7e-ef4102988516"
      },
      "execution_count": 16,
      "outputs": [
        {
          "output_type": "stream",
          "name": "stdout",
          "text": [
            "Ingresa la contraseña de administrador para ver el listado de usuarios o \n",
            "escribe 'salir' para terminar: salir\n",
            "Hasta pronto!\n"
          ]
        }
      ]
    },
    {
      "cell_type": "code",
      "source": [
        "lista_de_usuarios(usuarios)"
      ],
      "metadata": {
        "colab": {
          "base_uri": "https://localhost:8080/"
        },
        "id": "uqLaZx8VVEOR",
        "outputId": "cafe2c17-3959-4c8c-9310-f41f8b6e5766"
      },
      "execution_count": 17,
      "outputs": [
        {
          "output_type": "stream",
          "name": "stdout",
          "text": [
            "Ingresa la contraseña de administrador para ver el listado de usuarios o \n",
            "escribe 'salir' para terminar: Admin1234\n",
            "\n",
            "Usuarios registrados: \n",
            "\n",
            "- Nombre de usuario: Gonzalo Martinez; Contraseña: Gonza48\n",
            "- Nombre de usuario: Carla Garcia; Contraseña: carlita98\n",
            "- Nombre de usuario: Gabriela Mistral; Contraseña: 2641\n",
            "\n",
            "Hasta pronto!\n"
          ]
        }
      ]
    },
    {
      "cell_type": "code",
      "source": [
        "lista_de_usuarios(usuarios)"
      ],
      "metadata": {
        "colab": {
          "base_uri": "https://localhost:8080/"
        },
        "id": "DDpy7Pv0QIsZ",
        "outputId": "0b2e52bc-0b51-44b8-bf05-8e04d0b8854b"
      },
      "execution_count": 18,
      "outputs": [
        {
          "output_type": "stream",
          "name": "stdout",
          "text": [
            "Ingresa la contraseña de administrador para ver el listado de usuarios o \n",
            "escribe 'salir' para terminar: GonzaAdmin\n",
            "Contraseña incorrecta\n",
            "Ingresa la contraseña de administrador para ver el listado de usuarios o \n",
            "escribe 'salir' para terminar: salir\n",
            "Hasta pronto!\n"
          ]
        }
      ]
    },
    {
      "cell_type": "code",
      "source": [
        "def ingresar(usuarios):\n",
        "  \"\"\"\n",
        "  Esta funcion solicita el nombre de usuario y contraseña. Si estos coinciden con los\n",
        "  del registro se da acceso al Usuario\n",
        "  \"\"\"\n",
        "  nombre_de_usuario = input(\"Ingresa tu nombre de Usuario: \").strip()\n",
        "  contraseña = input(\"Ingresa tu contraseña: \").strip()\n",
        "\n",
        "  if nombre_de_usuario in usuarios and usuarios[nombre_de_usuario] == contraseña:\n",
        "    print(\"Has ingresado correctamente!\")\n",
        "  else:\n",
        "    print(\"El nombre de Usuario o contraseña son incorrectos.\")\n",
        "\n",
        "ingresar(usuarios)"
      ],
      "metadata": {
        "colab": {
          "base_uri": "https://localhost:8080/"
        },
        "id": "Vvw4v6hdafc3",
        "outputId": "cecb4d0a-1f2c-445d-9506-487f2f2bf025"
      },
      "execution_count": 19,
      "outputs": [
        {
          "output_type": "stream",
          "name": "stdout",
          "text": [
            "Ingresa tu nombre de Usuario: Gonzalo Martinez\n",
            "Ingresa tu contraseña: Gonza48\n",
            "Has ingresado correctamente!\n"
          ]
        }
      ]
    },
    {
      "cell_type": "code",
      "source": [
        "ingresar(usuarios)"
      ],
      "metadata": {
        "colab": {
          "base_uri": "https://localhost:8080/"
        },
        "id": "34sbJR5WfcCv",
        "outputId": "0c1161e0-a5aa-4f95-d1e3-9f1db82d3d1f"
      },
      "execution_count": 20,
      "outputs": [
        {
          "output_type": "stream",
          "name": "stdout",
          "text": [
            "Ingresa tu nombre de Usuario: Carla Garcia\n",
            "Ingresa tu contraseña: hgtvb\n",
            "El nombre de Usuario o contraseña son incorrectos.\n"
          ]
        }
      ]
    },
    {
      "cell_type": "code",
      "source": [
        "ingresar(usuarios)"
      ],
      "metadata": {
        "colab": {
          "base_uri": "https://localhost:8080/"
        },
        "id": "bADTdBZVQelk",
        "outputId": "6b61de58-d6e5-4b34-bbed-154c123d35da"
      },
      "execution_count": 22,
      "outputs": [
        {
          "output_type": "stream",
          "name": "stdout",
          "text": [
            "Ingresa tu nombre de Usuario: Karla Garcia\n",
            "Ingresa tu contraseña: carlita98\n",
            "El nombre de Usuario o contraseña son incorrectos.\n"
          ]
        }
      ]
    },
    {
      "cell_type": "markdown",
      "source": [],
      "metadata": {
        "id": "IopiiB22afAy"
      }
    }
  ]
}