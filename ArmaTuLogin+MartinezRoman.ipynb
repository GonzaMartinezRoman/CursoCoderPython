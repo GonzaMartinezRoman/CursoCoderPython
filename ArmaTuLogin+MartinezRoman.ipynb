{
  "nbformat": 4,
  "nbformat_minor": 0,
  "metadata": {
    "colab": {
      "provenance": [],
      "authorship_tag": "ABX9TyPzE2iuarDGJFK/w1pyLxRh",
      "include_colab_link": true
    },
    "kernelspec": {
      "name": "python3",
      "display_name": "Python 3"
    },
    "language_info": {
      "name": "python"
    }
  },
  "cells": [
    {
      "cell_type": "markdown",
      "metadata": {
        "id": "view-in-github",
        "colab_type": "text"
      },
      "source": [
        "<a href=\"https://colab.research.google.com/github/GonzaMartinezRoman/CursoCoderPython/blob/main/ArmaTuLogin%2BMartinezRoman.ipynb\" target=\"_parent\"><img src=\"https://colab.research.google.com/assets/colab-badge.svg\" alt=\"Open In Colab\"/></a>"
      ]
    },
    {
      "cell_type": "markdown",
      "source": [
        "# **Armá tu Login**\n",
        "\n",
        "###**Consigna**\n",
        "\n",
        "Para tu primera entrega, te proponemos que crees un programa que permita emular el registro y almacenamiento de usuarios en una base de datos. Hazlo utilizando el concepto de funciones, diccionarios, bucles y condicionales.\n",
        "\n",
        "###**Objetivos**\n",
        "\n",
        "*   Practicar el concepto de funciones.\n",
        "\n",
        "*    Desarrollar la parte lógica para el registro de usuarios.\n",
        "***"
      ],
      "metadata": {
        "id": "M2n4FFxGRO0G"
      }
    },
    {
      "cell_type": "code",
      "source": [
        "def registro_de_usuarios(usuarios):\n",
        "  \"\"\"\n",
        "  Esta función solicita a un usuario nuevo un nombre de usuario y una contraseña\n",
        "  para registrarse en la base de datos de usuarios.\n",
        "  \"\"\"\n",
        "  while True:\n",
        "    nombre_de_usuario = input(\"Ingresa tu nombre de usuario o \\nescribe 'salir' si deseas terminar): \")\n",
        "\n",
        "    if nombre_de_usuario.strip().lower() == 'salir': #Me aseguro que salga aunque el usuario use mayúsculas o deje espacios.\n",
        "      print(\"Hasta pronto!\")\n",
        "      return #Uso return en lugar de break para que se interrumpa la ejecución.\n",
        "\n",
        "    if nombre_de_usuario in usuarios:\n",
        "        print(\"Este Usuario ya se encuentra registrado, elije otro o \\nescribe 'salir' si deseas terminar.\")\n",
        "        continue\n",
        "\n",
        "    contraseña = input(\"Ingresa tu contraseña: \")\n",
        "\n",
        "    if contraseña.strip().lower() == 'salir': #Me aseguro que salga aunque el usuario use mayúsculas o deje espacios.\n",
        "      print(\"Cuidado! El registro ha sido interrumpido\")\n",
        "      return #Uso return en lugar de break para que se interrumpa la ejecución.\n",
        "\n",
        "    usuarios[nombre_de_usuario] = contraseña\n",
        "    print(f\"Usuario {nombre_de_usuario} correctamente registrado!\")\n",
        "\n",
        "usuarios = {}\n",
        "registro_de_usuarios(usuarios)\n"
      ],
      "metadata": {
        "colab": {
          "base_uri": "https://localhost:8080/"
        },
        "id": "lMsfFEL_Rbxd",
        "outputId": "fea20091-6913-401e-9c7d-b54520558b75"
      },
      "execution_count": 92,
      "outputs": [
        {
          "output_type": "stream",
          "name": "stdout",
          "text": [
            "Ingresa tu nombre de usuario o \n",
            "escribe 'salir' si deseas terminar): salir\n",
            "Hasta pronto!\n"
          ]
        }
      ]
    },
    {
      "cell_type": "code",
      "source": [
        "registro_de_usuarios(usuarios)"
      ],
      "metadata": {
        "colab": {
          "base_uri": "https://localhost:8080/"
        },
        "id": "c3xEMSEPOnzn",
        "outputId": "f502a2aa-7809-4d39-eec1-85e80cc9bcc7"
      },
      "execution_count": 93,
      "outputs": [
        {
          "output_type": "stream",
          "name": "stdout",
          "text": [
            "Ingresa tu nombre de usuario o \n",
            "escribe 'salir' si deseas terminar): Gonzalo Martinez\n",
            "Ingresa tu contraseña: gonza789\n",
            "Usuario Gonzalo Martinez correctamente registrado!\n",
            "Ingresa tu nombre de usuario o \n",
            "escribe 'salir' si deseas terminar): Carla Garcia\n",
            "Ingresa tu contraseña: carlita93\n",
            "Usuario Carla Garcia correctamente registrado!\n",
            "Ingresa tu nombre de usuario o \n",
            "escribe 'salir' si deseas terminar): Gabriela Mistral\n",
            "Ingresa tu contraseña: 2641\n",
            "Usuario Gabriela Mistral correctamente registrado!\n",
            "Ingresa tu nombre de usuario o \n",
            "escribe 'salir' si deseas terminar): salir\n",
            "Hasta pronto!\n"
          ]
        }
      ]
    },
    {
      "cell_type": "code",
      "source": [
        "def lista_de_usuarios(usuarios):\n",
        "\n",
        "  \"\"\"\n",
        "  Esta función devuelve la lista de usuarios y contraseñas registrados siempre y cuando\n",
        "  se ingrese con la contraseña de administrador\n",
        "  \"\"\"\n",
        "  while True:\n",
        "    contraseña_administrador = input(\"Ingresa la contraseña de administrador para ver el listado de usuarios o \\nescribe 'salir' para terminar: \")\n",
        "\n",
        "    if contraseña_administrador.strip().lower() == 'salir': #Me aseguro que salga aunque el usuario use mayúsculas o deje espacios.\n",
        "      print(\"Hasta pronto!\")\n",
        "      return #Uso return en lugar de break para que se interrumpa la ejecución.\n",
        "\n",
        "    if contraseña_administrador == 'Admin1234':\n",
        "      print(\"\\nUsuarios registrados: \\n\")\n",
        "      for usuario, contraseña in usuarios.items():\n",
        "        print(f\"- Nombre de usuario: {usuario}; Contraseña: {contraseña}\")\n",
        "      print(\"\\nHasta pronto!\")\n",
        "      return #Uso return en lugar de break para que se interrumpa la ejecución.\n",
        "\n",
        "    else:\n",
        "      print(\"Contraseña incorrecta\")\n",
        "\n",
        "lista_de_usuarios(usuarios)"
      ],
      "metadata": {
        "colab": {
          "base_uri": "https://localhost:8080/"
        },
        "id": "dIjItBtcQ45d",
        "outputId": "e8e473ce-02f2-4c63-de5a-2c5be51fee7e"
      },
      "execution_count": 94,
      "outputs": [
        {
          "output_type": "stream",
          "name": "stdout",
          "text": [
            "Ingresa la contraseña de administrador para ver el listado de usuarios o \n",
            "escribe 'salir' para terminar: salir\n",
            "Hasta pronto!\n"
          ]
        }
      ]
    },
    {
      "cell_type": "code",
      "source": [
        "lista_de_usuarios(usuarios)"
      ],
      "metadata": {
        "colab": {
          "base_uri": "https://localhost:8080/"
        },
        "id": "uqLaZx8VVEOR",
        "outputId": "ff79a835-a8cc-45cc-beba-a20efb870f32"
      },
      "execution_count": 95,
      "outputs": [
        {
          "output_type": "stream",
          "name": "stdout",
          "text": [
            "Ingresa la contraseña de administrador para ver el listado de usuarios o \n",
            "escribe 'salir' para terminar: Admin1234\n",
            "\n",
            "Usuarios registrados: \n",
            "\n",
            "- Nombre de usuario: Gonzalo Martinez; Contraseña: gonza789\n",
            "- Nombre de usuario: Carla Garcia; Contraseña: carlita93\n",
            "- Nombre de usuario: Gabriela Mistral; Contraseña: 2641\n",
            "\n",
            "Hasta pronto!\n"
          ]
        }
      ]
    },
    {
      "cell_type": "code",
      "source": [
        "def ingresar(usuarios):\n",
        "  \"\"\"\n",
        "  Esta funcion solicita el nombre de usuario y contraseña. Si estos coinciden con los\n",
        "  del registro se da acceso al Usuario\n",
        "  \"\"\"\n",
        "  nombre_de_usuario = input(\"Ingresa tu nombre de Usuario: \").strip()\n",
        "  contraseña = input(\"Ingresa tu contraseña: \").strip()\n",
        "\n",
        "  if nombre_de_usuario in usuarios and usuarios[nombre_de_usuario] == contraseña:\n",
        "    print(\"Has ingresado correctamente!\")\n",
        "  else:\n",
        "    print(\"El nombre de Usuario o contraseña son incorrectos.\")\n",
        "\n",
        "ingresar(usuarios)"
      ],
      "metadata": {
        "colab": {
          "base_uri": "https://localhost:8080/"
        },
        "id": "Vvw4v6hdafc3",
        "outputId": "6b067af8-39ef-4ff4-943a-968b0df2f5dc"
      },
      "execution_count": 98,
      "outputs": [
        {
          "output_type": "stream",
          "name": "stdout",
          "text": [
            "Ingresa tu nombre de Usuario: Gonzalo Martinez\n",
            "Ingresa tu contraseña: gonza789\n",
            "Has ingresado correctamente!\n"
          ]
        }
      ]
    },
    {
      "cell_type": "code",
      "source": [
        "ingresar(usuarios)"
      ],
      "metadata": {
        "colab": {
          "base_uri": "https://localhost:8080/"
        },
        "id": "34sbJR5WfcCv",
        "outputId": "3a753fea-0d8b-486b-90e4-2f5edcb87617"
      },
      "execution_count": 97,
      "outputs": [
        {
          "output_type": "stream",
          "name": "stdout",
          "text": [
            "Ingresa tu nombre de Usuario: Carla Garcia\n",
            "Ingresa tu contraseña: carla32\n",
            "El nombre de Usuario o contraseña son incorrectos.\n"
          ]
        }
      ]
    },
    {
      "cell_type": "markdown",
      "source": [],
      "metadata": {
        "id": "IopiiB22afAy"
      }
    }
  ]
}